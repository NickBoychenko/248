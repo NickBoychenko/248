{
  "cells": [
    {
      "cell_type": "markdown",
      "metadata": {
        "id": "view-in-github",
        "colab_type": "text"
      },
      "source": [
        "<a href=\"https://colab.research.google.com/github/NickBoychenko/248/blob/main/Copy_of_m248QuizWeek1_2.ipynb\" target=\"_parent\"><img src=\"https://colab.research.google.com/assets/colab-badge.svg\" alt=\"Open In Colab\"/></a>"
      ]
    },
    {
      "cell_type": "markdown",
      "metadata": {
        "deletable": false,
        "editable": false,
        "nbgrader": {
          "cell_type": "markdown",
          "checksum": "eb508a3db9aa49a5a90ed84c43a3db9d",
          "grade": false,
          "grade_id": "cell-894b44f6e4aa6d89",
          "locked": true,
          "schema_version": 3,
          "solution": false,
          "task": false
        },
        "id": "HIDCOiRyMQAk"
      },
      "source": [
        "## 1) List TEN things you learned during Weeks 1 and 2 and FIVE things you still don't understand or are curious and would like to learn about."
      ]
    },
    {
      "cell_type": "markdown",
      "metadata": {
        "deletable": false,
        "nbgrader": {
          "cell_type": "markdown",
          "checksum": "674a04c7b9ac8bbe1af73ec37ad0d3c5",
          "grade": true,
          "grade_id": "cell-2b7b7a3717ed7c28",
          "locked": false,
          "points": 2,
          "schema_version": 3,
          "solution": true,
          "task": false
        },
        "id": "MZ3E_QKxMQAn"
      },
      "source": [
        "## Things I have learned:\n",
        "1. How to use GitHub at a basic level and set up a repository.\n",
        "2. The matplotlib library, and graphing with it.\n",
        "3. How to make 3D graphs with mplot3d from mpl_toolkits.\n",
        "4. To create a Python class, when to use it, and how.\n",
        "5. Formatting in Jupyter Notebooks with headers (#) and bold and numbered lists.\n",
        "6. Dictionaries and how they store information using keys and values.\n",
        "7. Pandas library and using it to create data frames.\n",
        "8. Create for and while loops in Python to repeat a function multiple times.\n",
        "9. The Seaborn library is new to me and I learned how to plot using it.\n",
        "10.  How to find the limit of a finite series.\n",
        "\n",
        "## Things I'm curious about:\n",
        "1. Machine Learning is the most interesting to me, so creating algorithms would\n",
        "be cool.\n",
        "2. Structuring data in a clean and aesthetic way.\n",
        "3. Want to be able to finally solve the problems I spent hours on in Calculus\n",
        "from a computer.\n",
        "4. I'm curious about your thoughts on openAI and other ML companies and whether you think they will take our jobs away in the near future.\n",
        "5. If we are going to be connecting the algorithms that solve the math problems into how we can use that for AI."
      ]
    },
    {
      "cell_type": "markdown",
      "metadata": {
        "deletable": false,
        "editable": false,
        "nbgrader": {
          "cell_type": "markdown",
          "checksum": "f5a4e240a74d78afb335b8264b09f66f",
          "grade": false,
          "grade_id": "cell-f8652ead18e4e4b4",
          "locked": true,
          "schema_version": 3,
          "solution": false,
          "task": false
        },
        "id": "wC_03iOWMQAo"
      },
      "source": [
        "## 2) Answer the following (cite your references).\n",
        "\n",
        "1.  What is a transistor? Why is it important for building and enhancing\n",
        "    computers?\n",
        "\n",
        "2.  How small is the smallest transistor ever invented?\n",
        "\n",
        "3.  What is a semiconductor? Why is it important for building and\n",
        "    enhancing computers?\n",
        "\n",
        "4.  Why was the development of the RAM revolutionary for the development\n",
        "    of the modern computer?\n",
        "\n",
        "5.  Why is there now so much research about quantum computing?"
      ]
    },
    {
      "cell_type": "markdown",
      "metadata": {
        "deletable": false,
        "nbgrader": {
          "cell_type": "markdown",
          "checksum": "1dd38b104ad5febe74015c3bd45824f9",
          "grade": true,
          "grade_id": "cell-b0950da5a192e035",
          "locked": false,
          "points": 3,
          "schema_version": 3,
          "solution": true,
          "task": false
        },
        "id": "CPiQYc1iMQAo"
      },
      "source": [
        "1. A transistor uses semiconductors to control the flow of electricity. It is useful by giving computers the binary 0's and 1's\n",
        "https://www.computerhope.com/jargon/t/transist.htm\n",
        "2. 1 nanometer long\n",
        "https://www.theverge.com/circuitbreaker/2016/10/6/13187820/one-nanometer-transistor-berkeley-lab-moores-law\n",
        "3. A semiconductor is typically made out of silicon, which is an insolates based on when needed. It is useful in making transistors for electronics.\n",
        "https://www.investopedia.com/terms/s/semiconductor.asp\n",
        "4. RAM stores temporary memory in the computer. It allows for the computer to access it much quicker than going into long term storage.\n",
        "https://www.avast.com/c-what-is-ram-memory\n",
        "5. Quantum computing would tremendously increase the effiecency of solving complex algorithms.\n",
        "https://www.ncbi.nlm.nih.gov/books/NBK538701/"
      ]
    },
    {
      "cell_type": "markdown",
      "metadata": {
        "deletable": false,
        "editable": false,
        "nbgrader": {
          "cell_type": "markdown",
          "checksum": "e1f4bff982518f43deffd77da0d2f98f",
          "grade": false,
          "grade_id": "cell-e7685bfd97b1fa0d",
          "locked": true,
          "schema_version": 3,
          "solution": false,
          "task": false
        },
        "id": "znV0lqnyMQAo"
      },
      "source": [
        "# 3) Calculate the following sum analytically $\\sum_{k=6}^{50}k^2$."
      ]
    },
    {
      "cell_type": "markdown",
      "metadata": {
        "deletable": false,
        "nbgrader": {
          "cell_type": "markdown",
          "checksum": "640c9ff9bb9fef172896282cfd741373",
          "grade": true,
          "grade_id": "cell-6ddaee207af6ebab",
          "locked": false,
          "points": 0,
          "schema_version": 3,
          "solution": true,
          "task": false
        },
        "id": "CQBEq-l3MQAp"
      },
      "source": [
        "(50(50+1)(100+1)/6) - (6(6+1)(12+1)/6) = 42834"
      ]
    },
    {
      "cell_type": "markdown",
      "metadata": {
        "deletable": false,
        "editable": false,
        "nbgrader": {
          "cell_type": "markdown",
          "checksum": "9005c1396d19a117483411b931607f19",
          "grade": false,
          "grade_id": "cell-ecc04f9ad599a9e7",
          "locked": true,
          "schema_version": 3,
          "solution": false,
          "task": false
        },
        "id": "bBSnhO1tMQAp"
      },
      "source": [
        "## 4) Programming: Write a program that lists all the multiples of 15 greater than −200 and strictly less than 2000."
      ]
    },
    {
      "cell_type": "code",
      "execution_count": null,
      "metadata": {
        "deletable": false,
        "nbgrader": {
          "cell_type": "code",
          "checksum": "9fd756ed357fee4846cabea0de3c8dcb",
          "grade": true,
          "grade_id": "cell-640c6f13e30f6fbb",
          "locked": false,
          "points": 0,
          "schema_version": 3,
          "solution": true,
          "task": false
        },
        "id": "jK6OcVw-MQAq",
        "outputId": "d9c1c439-1e46-4bac-ba45-281337c39114",
        "colab": {
          "base_uri": "https://localhost:8080/"
        }
      },
      "outputs": [
        {
          "output_type": "stream",
          "name": "stdout",
          "text": [
            "[-195, -180, -165, -150, -135, -120, -105, -90, -75, -60, -45, -30, -15, 0, 15, 30, 45, 60, 75, 90, 105, 120, 135, 150, 165, 180, 195, 210, 225, 240, 255, 270, 285, 300, 315, 330, 345, 360, 375, 390, 405, 420, 435, 450, 465, 480, 495, 510, 525, 540, 555, 570, 585, 600, 615, 630, 645, 660, 675, 690, 705, 720, 735, 750, 765, 780, 795, 810, 825, 840, 855, 870, 885, 900, 915, 930, 945, 960, 975, 990, 1005, 1020, 1035, 1050, 1065, 1080, 1095, 1110, 1125, 1140, 1155, 1170, 1185, 1200, 1215, 1230, 1245, 1260, 1275, 1290, 1305, 1320, 1335, 1350, 1365, 1380, 1395, 1410, 1425, 1440, 1455, 1470, 1485, 1500, 1515, 1530, 1545, 1560, 1575, 1590, 1605, 1620, 1635, 1650, 1665, 1680, 1695, 1710, 1725, 1740, 1755, 1770, 1785, 1800, 1815, 1830, 1845, 1860, 1875, 1890, 1905, 1920, 1935, 1950, 1965, 1980, 1995]\n"
          ]
        }
      ],
      "source": [
        "def start(beginning, step):\n",
        "  n=0\n",
        "  while (beginning < n - step):\n",
        "    n-=step\n",
        "  return n\n",
        "\n",
        "def list_multiples(beginning, step, last):\n",
        "  i = start(beginning, step)\n",
        "  list = []\n",
        "  while (i < last):\n",
        "    list.append(i)\n",
        "    i += step\n",
        "  return list\n",
        "\n",
        "print(list_multiples(-200, 15, 2000))\n",
        "\n"
      ]
    },
    {
      "cell_type": "markdown",
      "metadata": {
        "deletable": false,
        "editable": false,
        "nbgrader": {
          "cell_type": "markdown",
          "checksum": "6c090de0dbab0c06dcf6291879e509ec",
          "grade": false,
          "grade_id": "cell-b357592096b88921",
          "locked": true,
          "schema_version": 3,
          "solution": false,
          "task": false
        },
        "id": "Q4aeRPZNMQAq"
      },
      "source": [
        "## 􏰀5) Programming: Write a program that calculates the sum\n",
        "$$\\sum_{k=-100}^{75}\\frac{k^3-2k}{k^2+2}$$\n",
        "## Can this sum be computed analytically?"
      ]
    },
    {
      "cell_type": "code",
      "execution_count": null,
      "metadata": {
        "deletable": false,
        "nbgrader": {
          "cell_type": "code",
          "checksum": "7f19606987e40fd6eb0b0cfb9c5445de",
          "grade": true,
          "grade_id": "cell-294356bd9b3e974b",
          "locked": false,
          "points": 0,
          "schema_version": 3,
          "solution": true,
          "task": false
        },
        "id": "YW7S3tJIMQAr",
        "outputId": "14f90f41-20b7-4511-a154-052b98d25139",
        "colab": {
          "base_uri": "https://localhost:8080/"
        }
      },
      "outputs": [
        {
          "output_type": "stream",
          "name": "stdout",
          "text": [
            "Finite sum = -2198.856218040634\n",
            "The sum cannot be computed analytically because there is no way to manipulate the problem into a general solution.\n"
          ]
        }
      ],
      "source": [
        "sum = 0\n",
        "for k in range(-100, 76):\n",
        "  sum += (k**3-2*k)/(k**2+2)\n",
        "print('Finite sum =', sum)\n",
        "\n",
        "print('The sum cannot be computed analytically because there ', end = '')\n",
        "print('is no way to manipulate the problem into a general solution.')\n"
      ]
    },
    {
      "cell_type": "markdown",
      "metadata": {
        "deletable": false,
        "editable": false,
        "nbgrader": {
          "cell_type": "markdown",
          "checksum": "ac42e04c12e20624d0b5852df5bf4bf6",
          "grade": false,
          "grade_id": "cell-66c1f9def8fc5cb5",
          "locked": true,
          "schema_version": 3,
          "solution": false,
          "task": false
        },
        "id": "qnyFLXRvMQAr"
      },
      "source": [
        "## 6) Programming: Write a program that determines whether the sequence \n",
        "$$a_n=\\frac{(\\cos(n))^2}{2^n}$$\n",
        "## converges or diverges. Make two subplots showing the convergence of the sequence, one subplot showing the sequence as a function of n, and the other plotting the sequence on the number line. Label the axes and title your subplots. \n",
        "\n",
        "## What is the limit of this sequence?"
      ]
    },
    {
      "cell_type": "code",
      "execution_count": null,
      "metadata": {
        "deletable": false,
        "nbgrader": {
          "cell_type": "code",
          "checksum": "ccc69d797893c2e8f3a88893030af799",
          "grade": true,
          "grade_id": "cell-17b78fde82a13eb6",
          "locked": false,
          "points": 0,
          "schema_version": 3,
          "solution": true,
          "task": false
        },
        "id": "cianHR0-MQAr",
        "outputId": "58f41b4a-9393-4501-ef8b-52d677356e9e",
        "colab": {
          "base_uri": "https://localhost:8080/",
          "height": 641
        }
      },
      "outputs": [
        {
          "output_type": "stream",
          "name": "stdout",
          "text": [
            "The limit of the sequence is 1.605042807182684e-16\n"
          ]
        },
        {
          "output_type": "display_data",
          "data": {
            "text/plain": [
              "<Figure size 1080x720 with 2 Axes>"
            ],
            "image/png": "[encoded data removed]"
          },
          "metadata": {
            "needs_background": "light"
          }
        }
      ],
      "source": [
        "import numpy as np\n",
        "import matplotlib.pyplot as plt\n",
        "\n",
        "def a(n):\n",
        "  return ((np.cos(n)**2)/(2**n))\n",
        "\n",
        "list = []\n",
        "end = 50\n",
        "for n in np.arange(1, end):\n",
        "  list.append(a(n))\n",
        "\n",
        "figs, subs = plt.subplots(2, 1, figsize=(15, 10))\n",
        "subs[0].plot(list, 'ko')\n",
        "subs[0].set_xlabel('n', fontsize=13)\n",
        "subs[0].set_ylabel('a(n)', fontsize=13)\n",
        "subs[0].set_title('Sequence plotted against its index', fontsize=13)\n",
        "\n",
        "subs[1].plot(list, np.zeros(len(list),), 'ko')\n",
        "subs[1].set_xlabel('a(n)', fontsize=13)\n",
        "subs[1].set_ylabel('y', fontsize=13)\n",
        "subs[1].set_title('Sequence plotted on the number line', fontsize=13)\n",
        "subs[1].grid()\n",
        "\n",
        "print('The limit of the sequence is', list[len(list)-1])"
      ]
    }
  ],
  "metadata": {
    "kernelspec": {
      "display_name": "Python 3 (ipykernel)",
      "language": "python",
      "name": "python3"
    },
    "language_info": {
      "codemirror_mode": {
        "name": "ipython",
        "version": 3
      },
      "file_extension": ".py",
      "mimetype": "text/x-python",
      "name": "python",
      "nbconvert_exporter": "python",
      "pygments_lexer": "ipython3",
      "version": "3.9.12"
    },
    "colab": {
      "provenance": [],
      "include_colab_link": true
    }
  },
  "nbformat": 4,
  "nbformat_minor": 0
}