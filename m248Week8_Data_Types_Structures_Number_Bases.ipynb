{
 "cells": [
  {
   "cell_type": "markdown",
   "metadata": {},
   "source": [
    ">![image](jmulogo.png)\n",
    ">\n",
    "> # Math 248 Computers and Numerical Algorithms\n",
    "> # Hala Nelson\n",
    "> # Week 8: Data Types, Data Structures and Representation of Numbers on Machines: Conversion Between Number Bases"
   ]
  },
  {
   "cell_type": "markdown",
   "metadata": {},
   "source": [
    "# Data Types in Python\n",
    "\n",
    "https://www.w3schools.com/python/python_datatypes.asp"
   ]
  },
  {
   "cell_type": "markdown",
   "metadata": {},
   "source": [
    "# Data Structures In Python\n",
    "\n",
    "https://www.edureka.co/blog/data-structures-in-python/"
   ]
  },
  {
   "cell_type": "markdown",
   "metadata": {},
   "source": [
    "# Converting a decimal number, which means a number in base 10, to a binary number (base 2, can use 0 and 1), octal number (base 8, can use 0,1,2,3,4,5,6,7), and hexadecimal number (base 16, can use 0,1,2,3,4,5,6,7,8,9,A,B,C,D,E,F)"
   ]
  },
  {
   "cell_type": "code",
   "execution_count": 22,
   "metadata": {},
   "outputs": [
    {
     "name": "stdout",
     "output_type": "stream",
     "text": [
      "The number 26 in binary or base 2 is: 0b11010\n",
      "The number 64 in octal base or base 8 is: 0o100\n",
      "The number 64 in hexadecimal or base 16 is: 0x40\n",
      "The number 100000000 in hexadecimal or base 16 is: 0x5f5e100\n"
     ]
    }
   ],
   "source": [
    "# a=26 in base 10 so 26=2*10^1+6*10^0\n",
    "# a=673 in base 10 so 673=6*10^2+7*10^1+3*10^0\n",
    "# a=23.056 in base 10 so 23.056=2*10^1+3*10^0+0*10^(-1)+5*10^(-2)+6*10^(-3)\n",
    "# a=26 in base 8 so 26=2*8^1+6*8^0=16+6=22 in base 10\n",
    "\n",
    "# Let's use Python's built in code to transform from decimal to other bases\n",
    "\n",
    "a=bin(26)\n",
    "print('The number 26 in binary or base 2 is:',a)\n",
    "\n",
    "b=oct(64)\n",
    "print('The number 64 in octal base or base 8 is:',b)\n",
    "\n",
    "c=hex(64)\n",
    "print('The number 64 in hexadecimal or base 16 is:',c)\n",
    "\n",
    "d=hex(100000000)\n",
    "print('The number 100000000 in hexadecimal or base 16 is:',d)"
   ]
  },
  {
   "cell_type": "markdown",
   "metadata": {},
   "source": [
    "# Let's check that last output: The number 100000000 in hexadecimal or base 16 is: 5f5e100. Recall that f in base 16 represents the number 15 and e in base 16 represents the number 14."
   ]
  },
  {
   "cell_type": "code",
   "execution_count": 16,
   "metadata": {},
   "outputs": [
    {
     "data": {
      "text/plain": [
       "100000000"
      ]
     },
     "execution_count": 16,
     "metadata": {},
     "output_type": "execute_result"
    }
   ],
   "source": [
    "5*16**6+15*16**5+5*16**4+14*16**3+1*16**2+0+0"
   ]
  },
  {
   "cell_type": "markdown",
   "metadata": {},
   "source": [
    "# Our own program that changes a number from base b to base 10 (decimal)\n",
    "\n",
    "The algorithm to expand in base b is based on Horner's method https://en.wikipedia.org/wiki/Horner%27s_method for polynomial evaluation, and it is much cheaper than naively multiplying the digits of the number by the powers of the base. Algorithms should not be computationally expensive so they can scale to large problems. Evaluating polynomials is everywhere in machine learning and AI where the problems are huge so devicing efficient algorithms is of paramount importance."
   ]
  },
  {
   "cell_type": "code",
   "execution_count": 84,
   "metadata": {},
   "outputs": [
    {
     "name": "stdout",
     "output_type": "stream",
     "text": [
      "The number [1, 0, 0, 1] with 1 fractional digits converted from base 8 to base 10 is:\n",
      " 64.125\n"
     ]
    }
   ],
   "source": [
    "# base\n",
    "b=8\n",
    "# Digits of base b number\n",
    "a=[1,0,0,1]\n",
    "#fractional point moved how many places\n",
    "n=1; \n",
    "\n",
    "#initiate output\n",
    "d=0\n",
    "   \n",
    "for digit in a:\n",
    "    d=d*b+digit\n",
    "\n",
    "#return d with adjustment for decimal point\n",
    "number_in_base_10=d*b**(-n)\n",
    "print(f'The number {a} with {n} fractional digits converted from base {b} to base 10 is:\\n',number_in_base_10)"
   ]
  },
  {
   "cell_type": "markdown",
   "metadata": {},
   "source": [
    "# Our own program that changes a number from base 10 (decimal) to base b"
   ]
  },
  {
   "cell_type": "code",
   "execution_count": 80,
   "metadata": {},
   "outputs": [
    {
     "name": "stdout",
     "output_type": "stream",
     "text": [
      "The number 189.7215 in base 10 converted to base 5 is:\n",
      " [1. 2. 2. 4.] [3.0, 3.0, 0.0, 0.0, 4.0, 3.0, 2.0, 0.0, 4.0, 3.0, 2.0, 0.0, 4.0, 3.0, 2.0, 0.0, 4.0, 3.0, 2.0, 0.0]\n"
     ]
    }
   ],
   "source": [
    "# Convert from base 10 to base b\n",
    "import numpy as np\n",
    "import math\n",
    "\n",
    "# number in base 10\n",
    "number_10=189.7215\n",
    "\n",
    "# base to convert to\n",
    "b=5\n",
    "\n",
    "# split integer and fractional parts\n",
    "frac,integer=math.modf(number_10)\n",
    "\n",
    "# integer part\n",
    "#initiate a vector that collects the remainders of divisions that will become digits of the base b integer part\n",
    "a=[]\n",
    "\n",
    "while integer!=0:\n",
    "    a.append((integer%b)) # append with the remainder of the division between int and b\n",
    "    integer=np.fix(integer/b) # the integer part of the answer of the division between integer and b\n",
    "\n",
    "# return a but flipped\n",
    "integer_part=np.flip(a)\n",
    "\n",
    "# fractional part\n",
    "# initiate a vector that collects the digits that will be in the base b fractional part\n",
    "c=[]\n",
    "\n",
    "# initiate a counter that goes up to the number of digits you want\n",
    "i=1\n",
    "while frac!=0 and i<21:\n",
    "   c.append(np.fix(frac*b))\n",
    "   frac=frac*b-np.fix(frac*b)\n",
    "   i=i+1\n",
    "\n",
    "# print output\n",
    "print(f'The number {number_10} in base 10 converted to base {b} is:\\n',integer_part,c)\n",
    "\n",
    "# Quiz on Week 8, make the output look like a number, not two lists"
   ]
  },
  {
   "cell_type": "markdown",
   "metadata": {},
   "source": [
    "# Automate the testing process for your program. Write little test codes using the functions assertEqual() etc."
   ]
  },
  {
   "cell_type": "markdown",
   "metadata": {},
   "source": [
    "# How many bits (binary digits) does a computer allocate to represent numbers?\n",
    "\n",
    "* Each computer is different (personal computer different than high performance computer).\n",
    "* Computers treat integers and real numbers differently: They allocate a certain number of bit to represent all integers. It represents reals as floating point numbers: 1 bit for the sign, certain bits for the mantissa, and certain bits for the exponent. \n",
    "* This means that there is only a finite amount of numbers whether integer or real that can be represented on a machine. Thus any number that we include in our computations that cannot be accurately represented will introduce errors into our computations. These errors are called round-off errors and they will accumulate if we keep using the in-accurately represented numbers in our iterations, etc. "
   ]
  }
 ],
 "metadata": {
  "kernelspec": {
   "display_name": "Python 3",
   "language": "python",
   "name": "python3"
  },
  "language_info": {
   "codemirror_mode": {
    "name": "ipython",
    "version": 3
   },
   "file_extension": ".py",
   "mimetype": "text/x-python",
   "name": "python",
   "nbconvert_exporter": "python",
   "pygments_lexer": "ipython3",
   "version": "3.8.5"
  }
 },
 "nbformat": 4,
 "nbformat_minor": 4
}
