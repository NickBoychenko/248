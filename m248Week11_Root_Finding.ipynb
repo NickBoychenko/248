{
 "cells": [
  {
   "cell_type": "markdown",
   "metadata": {},
   "source": [
    ">![image](jmulogo.png)\n",
    ">\n",
    "> # Math 248 Computers and Numerical Algorithms\n",
    "> # Hala Nelson\n",
    "> # Weeks 11: Finding Roots of Nonlinear Functions\n",
    "___"
   ]
  },
  {
   "cell_type": "markdown",
   "metadata": {},
   "source": [
    "## Methods to find the roots of continuous functions: The goal is to numerically solve the nonlinear equation $f(x)=0$.\n",
    "\n",
    "![image](Dropbox/A-Teaching/math248/A-math248S19_21/Roots1.jpg)\n",
    "\n",
    "Most of root finding methods create a sequence $\\{x_0,x_1,\\dots\\}$ that hopefully converges to the desired root $x_r$ of a continuous function $f$ (point $x_r$ such that $f(x_r)=0$ or where the graph of $f$ meets the $x$-axis).\n",
    "\n",
    "## Method 1- Newton's: Evaluates both $f$ and $f'$ at the point $x_n$. So $f'$ better be available and well behaved. \n",
    "\n",
    "Keep in mind that it is usually computationally expensive to compute the derivative numerically. So this method is good when the formula for the derivative is already available.\n",
    "\n",
    "- **Formula**: Start at $x_0$. Then iterate: $$x_{n+1}=x_n-\\frac{f(x_n)}{f'(x_{n})}$$ \n",
    "- **Graphically**: $x_{n+1}$ is the point of intersection of the $x$-axis with the tangent to the graph of $f$ at the point $(x_n,f(x_n))$ (see the image below).\n",
    "- **Derivation**: \n",
    "\n",
    "The equation of the tangent to the graph of $f$ at the point $(x_n,f(x_n))$ is $y=f(x_n)+f'(x_n)(x-x_n)$. \n",
    "\n",
    "To find the point where this tangent line meets the $x$-axis, set $y=0$ and solve for $x$. \n",
    "\n",
    "This will give the next point in the sequence $x_{n+1}=x_n-\\frac{f(x_n)}{f'(x_{n})}$. \n",
    "\n",
    "The idea is that it is much easier to solve the linear equation $f(x_n)+f'(x_n)(x-x_n)=0$ than the nonlinear equation $f(x)=0$. Therefore, at each step, we *linearize* the nonlinear equation then solve for the root. \n",
    "\n",
    "![image](Dropbox/A-Teaching/math248/A-math248S19_21/Roots2.jpg)\n",
    "\n",
    "- **Proof of quadratic convergence of Newton's method under the right conditions on $f$, $f'$ and $f''$**: \n",
    "\n",
    "Start at $x_0$ in an interval $[x_r-b,x_r+b]$, with $b>0$, and assume $f$, $f'$, and $f''$ are all continuous on this interval. Also, assume that $f'(x)\\neq 0$ on this interval.\n",
    "\n",
    "Using Taylor's theorem near the point $x_n$, we have $$f(x)=f(x_n)+f'(x_n)(x-x_n)+\\frac{f''(\\xi_n)}{2!}(x-x_n)^2.$$ \n",
    "\n",
    "Let $x=x_r$, then $f(x_r)=0$, and after some algebra we get \n",
    "$$\\begin{aligned}\n",
    "|x_{n+1}-x_r|&=\\frac{|f''(\\xi_n)|}{2|f'(x_n)|}|x_n-x_r|^2,\\\\\n",
    "&=\\gamma|x_n-x_r|^2,\n",
    "\\end{aligned}$$\n",
    "where $\\xi_n\\in(x_n,x_r)$, and $\\gamma=\\frac{|f''(\\xi_n)|}{2|f'(x_n)|}$. \n",
    "\n",
    "Hence, if $\\frac{|f''(\\xi_n)|}{|f'(x_n)|}$ is bounded, or $$M=\\sup_{x\\in[x_r-b,x_r+b]}\\frac{|f''(x)|}{2|f'(x)|}<\\infty$$  \n",
    "\n",
    "(great when the slope $|f'(x_n)|$ is large, terrible when it is near zero), and if $|x_n-x_r|$ is small ($x_n$ close enough to the root), then $|x_{n+1}-x_r|$ is much smaller than $|x_{n}-x_r|$, and the method converges rapidly (quadratically fast) to the root. \n",
    "\n",
    "- Think of all the cases when Newton's method fails to converge or fails to capture the root.\n",
    "\n",
    "## Method 2- Secant: Similar to Newton's but avoids using the derivative by approximating with a nearby slope.  \n",
    "\n",
    "- **Method**: Start with two points $x_0$, $x_1$, then iterate: $$x_{n+2}=x_{n+1}-f(x_{n+1})\\frac{x_{n+1}-x_n}{f(x_{n+1})-f(x_n)}$$ \n",
    "\n",
    "- This method **converges linearly** $$|x_{n+1}-x_r|=C|x_{n}-x_r|, 0<C<1.$$\n",
    "\n",
    "- **Graphical explanation and program**\n",
    "\n",
    "![image](Dropbox/A-Teaching/math248/A-math248S19_21/Roots3.jpg)\n",
    "![image](Dropbox/A-Teaching/math248/A-math248S19_21/Roots4.jpg)\n",
    "\n",
    "## Method 3- Bisection: \n",
    "\n",
    "- Uses the intermediate value theorem for continuous functions. Converges linearly ($|x_{n+1}-x_r|=C|x_{n}-x_r|$, $0<C<1$). \n",
    "\n",
    "- **Graphical explanation and program.**\n",
    "\n",
    "## Relationship to Fixed Point Finding (previous week material)\n",
    "\n",
    "Searching for a fixed point of a continuous function $g(x)$ is equivalent to searching for a root for the function $f(x)=g(x)-x$.\n",
    "___"
   ]
  },
  {
   "cell_type": "markdown",
   "metadata": {},
   "source": [
    "# Assignment\n",
    "\n",
    "## Exercise 1\n",
    "\n",
    "Research: Can Newton's method be extended to higher dimensions? Explain."
   ]
  },
  {
   "cell_type": "markdown",
   "metadata": {},
   "source": []
  },
  {
   "cell_type": "markdown",
   "metadata": {},
   "source": [
    "## Exercise 2 \n",
    "\n",
    "Research: There are so many root fincding methods out there. Some are more useful or efficient than others, but it all depends on the use case. The interplay is always between accuracy and computational cost. List six different root-finding methods and write one sentence describing each."
   ]
  },
  {
   "cell_type": "markdown",
   "metadata": {},
   "source": []
  },
  {
   "cell_type": "markdown",
   "metadata": {},
   "source": [
    "## Exercise 3\n",
    "\n",
    "Explain, with numbers, what it means that Newton's method converges quadratically fast to the root (of course under the right conditions on $f$, $f'$, $f''$ and the location of the starting point $x_0$). "
   ]
  },
  {
   "cell_type": "markdown",
   "metadata": {},
   "source": []
  },
  {
   "cell_type": "markdown",
   "metadata": {},
   "source": [
    "## Exercise 4\n",
    "\n",
    "Write a program that finds root(s) of the continuous function $$f(x)=e^x-3x^2$$ using each of the following methods:\n",
    "\n",
    "1. Newton's  \n",
    "2. Bisection\n",
    "\n",
    "Note that the roots that need to be captured are: $x_1\\sim -0.46$, $x_2\\sim 0.91$, $x_3\\sim 3.73$."
   ]
  },
  {
   "cell_type": "code",
   "execution_count": null,
   "metadata": {},
   "outputs": [],
   "source": []
  },
  {
   "cell_type": "markdown",
   "metadata": {},
   "source": [
    "# Exercise 5\n",
    "\n",
    "Write a program that outputs a graph that explains how the secant method works."
   ]
  },
  {
   "cell_type": "code",
   "execution_count": null,
   "metadata": {},
   "outputs": [],
   "source": []
  },
  {
   "cell_type": "markdown",
   "metadata": {},
   "source": [
    "# Exercise 6\n",
    "\n",
    "Write a program that pproximates $\\sqrt{7}$ numerically using Newton's method applied to an appropriate function (what easy continuous function $f(x)$ has root $\\sqrt{7}$?). After how many steps did Newton's method converge?"
   ]
  },
  {
   "cell_type": "code",
   "execution_count": null,
   "metadata": {},
   "outputs": [],
   "source": []
  }
 ],
 "metadata": {
  "kernelspec": {
   "display_name": "Python 3",
   "language": "python",
   "name": "python3"
  },
  "language_info": {
   "codemirror_mode": {
    "name": "ipython",
    "version": 3
   },
   "file_extension": ".py",
   "mimetype": "text/x-python",
   "name": "python",
   "nbconvert_exporter": "python",
   "pygments_lexer": "ipython3",
   "version": "3.8.5"
  }
 },
 "nbformat": 4,
 "nbformat_minor": 4
}
